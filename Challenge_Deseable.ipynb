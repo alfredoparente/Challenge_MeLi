{
 "cells": [
  {
   "cell_type": "code",
   "execution_count": 2,
   "id": "81171d50",
   "metadata": {},
   "outputs": [],
   "source": [
    "import requests\n",
    "import json\n",
    "import pandas as pd\n",
    "import matplotlib as mpl\n",
    "import matplotlib.pyplot as plt\n",
    "import seaborn as sns"
   ]
  },
  {
   "cell_type": "markdown",
   "id": "0b2e06cd",
   "metadata": {},
   "source": [
    "***1. Barrer una lista de más de 150 ítems ids en el servicio público:***\n",
    "***https://api.mercadolibre.com/sites/MLA/search?q=chromecast&limit=50#json***\n",
    "***En este caso particular y solo a modo de ejemplo, son resultados para la búsqueda***\n",
    "***“chromecast”, pero deberás elegir otros términos para el experimento que permitan*\n",
    "*enriquecer el análisis en un hipotético dashboard (ejemplo Google Home, Apple TV,*\n",
    "*Amazon Fire TV, o afines para poder comparar dispositivos portátiles, o bien elegir*\n",
    "*otros 3 que te interesen para comparar).***\n"
   ]
  },
  {
   "cell_type": "code",
   "execution_count": 6,
   "id": "3fcca6f7",
   "metadata": {},
   "outputs": [],
   "source": [
    "#Llamamos a la metrica\n",
    "df_challenge = pd.DataFrame(requests.get(\"https://api.mercadolibre.com/sites/MLA/search?q=chromecast&limit=50#json\").json()['results'])\n",
    "df_challenge ['amount'] = df_challenge.installments.map (lambda x: x['amount'])\n",
    "df_challenge ['rate'] = df_challenge.installments.map (lambda x: x['rate'])\n",
    "\n",
    "mediana_tasa_chromecast = df_challenge.rate.median()\n",
    "mediana_precio_chromecast = df_challenge.price.median()\n",
    "mediana_monto_chromecast = df_challenge.amount.median()"
   ]
  },
  {
   "cell_type": "code",
   "execution_count": 8,
   "id": "e0fe45b1",
   "metadata": {},
   "outputs": [],
   "source": [
    "#Llamamos a la metrica\n",
    "df_challenge = pd.DataFrame(requests.get(\"https://api.mercadolibre.com/sites/MLA/search?q=TV Apple&limit=50#json\").json()['results'])\n",
    "df_challenge ['amount'] = df_challenge.installments.map (lambda x: x['amount'])\n",
    "df_challenge ['rate'] = df_challenge.installments.map (lambda x: x['rate'])\n",
    "\n",
    "mediana_tasa_tvApple = df_challenge.rate.median()\n",
    "mediana_precio_tvApple = df_challenge.price.median()\n",
    "mediana_monto_tvApple = df_challenge.amount.median()"
   ]
  },
  {
   "cell_type": "code",
   "execution_count": 9,
   "id": "100e3c40",
   "metadata": {},
   "outputs": [],
   "source": [
    "#Llamamos a la metrica\n",
    "df_challenge = pd.DataFrame (requests.get (\"https://api.mercadolibre.com/sites/MLA/search?q=Amazon Fire TV&limit=50#json\").json()['results'])\n",
    "df_challenge ['amount'] = df_challenge.installments.map (lambda x: x['amount'])\n",
    "df_challenge ['rate'] = df_challenge.installments.map (lambda x: x['rate'])\n",
    "\n",
    "mediana_tasa_amazonFireTv = df_challenge.rate.median()\n",
    "mediana_precio_amazonFireTv = df_challenge.price.median()\n",
    "mediana_monto_amazonFireTv = df_challenge.amount.median()"
   ]
  },
  {
   "cell_type": "code",
   "execution_count": 10,
   "id": "6d214df0",
   "metadata": {},
   "outputs": [],
   "source": [
    "#Creo la Serie para su uso.\n",
    "serie_class = pd.Series(['Chromecast','Tv Apple','Amazon Fire TV'])\n",
    "serie_mediana_precio = pd.Series ([ mediana_precio_chromecast,mediana_precio_tvApple,mediana_precio_amazonFireTv ])\n",
    "serie_mediana_monto = pd.Series ([ mediana_monto_chromecast,mediana_monto_tvApple,mediana_monto_amazonFireTv ])\n",
    "serie_mediana_tasa = pd.Series ([ mediana_tasa_chromecast,mediana_tasa_tvApple,mediana_tasa_amazonFireTv ])"
   ]
  },
  {
   "cell_type": "code",
   "execution_count": 21,
   "id": "2d8cc6c1",
   "metadata": {},
   "outputs": [
    {
     "data": {
      "text/html": [
       "<div>\n",
       "<style scoped>\n",
       "    .dataframe tbody tr th:only-of-type {\n",
       "        vertical-align: middle;\n",
       "    }\n",
       "\n",
       "    .dataframe tbody tr th {\n",
       "        vertical-align: top;\n",
       "    }\n",
       "\n",
       "    .dataframe thead th {\n",
       "        text-align: right;\n",
       "    }\n",
       "</style>\n",
       "<table border=\"1\" class=\"dataframe\">\n",
       "  <thead>\n",
       "    <tr style=\"text-align: right;\">\n",
       "      <th></th>\n",
       "      <th>PRODUCTO</th>\n",
       "      <th>VALOR</th>\n",
       "      <th>METRICA</th>\n",
       "    </tr>\n",
       "  </thead>\n",
       "  <tbody>\n",
       "    <tr>\n",
       "      <th>0</th>\n",
       "      <td>Chromecast</td>\n",
       "      <td>9893.5</td>\n",
       "      <td>Precio</td>\n",
       "    </tr>\n",
       "    <tr>\n",
       "      <th>1</th>\n",
       "      <td>Tv Apple</td>\n",
       "      <td>10649.0</td>\n",
       "      <td>Precio</td>\n",
       "    </tr>\n",
       "    <tr>\n",
       "      <th>2</th>\n",
       "      <td>Amazon Fire TV</td>\n",
       "      <td>11448.0</td>\n",
       "      <td>Precio</td>\n",
       "    </tr>\n",
       "  </tbody>\n",
       "</table>\n",
       "</div>"
      ],
      "text/plain": [
       "         PRODUCTO    VALOR METRICA\n",
       "0      Chromecast   9893.5  Precio\n",
       "1        Tv Apple  10649.0  Precio\n",
       "2  Amazon Fire TV  11448.0  Precio"
      ]
     },
     "execution_count": 21,
     "metadata": {},
     "output_type": "execute_result"
    }
   ],
   "source": [
    "df_precio = pd.DataFrame ({'PRODUCTO':serie_class,'VALOR':serie_mediana_precio})\n",
    "df_precio ['METRICA'] = 'Precio'\n",
    "df_precio"
   ]
  },
  {
   "cell_type": "code",
   "execution_count": 22,
   "id": "a4aa957c",
   "metadata": {},
   "outputs": [
    {
     "name": "stderr",
     "output_type": "stream",
     "text": [
      "C:\\Users\\usuario\\anaconda3\\lib\\site-packages\\seaborn\\categorical.py:3714: UserWarning: The `factorplot` function has been renamed to `catplot`. The original name will be removed in a future release. Please update your code. Note that the default `kind` in `factorplot` (`'point'`) has changed `'strip'` in `catplot`.\n",
      "  warnings.warn(msg)\n"
     ]
    },
    {
     "data": {
      "text/plain": [
       "<seaborn.axisgrid.FacetGrid at 0x21c66bb9190>"
      ]
     },
     "execution_count": 22,
     "metadata": {},
     "output_type": "execute_result"
    },
    {
     "data": {
      "image/png": "[encoded data removed]",
      "text/plain": [
       "<Figure size 426.25x360 with 1 Axes>"
      ]
     },
     "metadata": {
      "needs_background": "light"
     },
     "output_type": "display_data"
    }
   ],
   "source": [
    "#Graficamos la metrica exportado\n",
    "sns.factorplot(x='PRODUCTO', y='VALOR', hue='METRICA', data=df_precio, kind='bar')"
   ]
  },
  {
   "cell_type": "code",
   "execution_count": 17,
   "id": "84c5847d",
   "metadata": {
    "scrolled": true
   },
   "outputs": [
    {
     "data": {
      "text/html": [
       "<div>\n",
       "<style scoped>\n",
       "    .dataframe tbody tr th:only-of-type {\n",
       "        vertical-align: middle;\n",
       "    }\n",
       "\n",
       "    .dataframe tbody tr th {\n",
       "        vertical-align: top;\n",
       "    }\n",
       "\n",
       "    .dataframe thead th {\n",
       "        text-align: right;\n",
       "    }\n",
       "</style>\n",
       "<table border=\"1\" class=\"dataframe\">\n",
       "  <thead>\n",
       "    <tr style=\"text-align: right;\">\n",
       "      <th></th>\n",
       "      <th>PRODUCTO</th>\n",
       "      <th>VALOR</th>\n",
       "      <th>METRICA</th>\n",
       "    </tr>\n",
       "  </thead>\n",
       "  <tbody>\n",
       "    <tr>\n",
       "      <th>0</th>\n",
       "      <td>Chromecast</td>\n",
       "      <td>1500.260</td>\n",
       "      <td>Monto</td>\n",
       "    </tr>\n",
       "    <tr>\n",
       "      <th>1</th>\n",
       "      <td>Tv Apple</td>\n",
       "      <td>1717.195</td>\n",
       "      <td>Monto</td>\n",
       "    </tr>\n",
       "    <tr>\n",
       "      <th>2</th>\n",
       "      <td>Amazon Fire TV</td>\n",
       "      <td>1701.560</td>\n",
       "      <td>Monto</td>\n",
       "    </tr>\n",
       "  </tbody>\n",
       "</table>\n",
       "</div>"
      ],
      "text/plain": [
       "         PRODUCTO     VALOR METRICA\n",
       "0      Chromecast  1500.260   Monto\n",
       "1        Tv Apple  1717.195   Monto\n",
       "2  Amazon Fire TV  1701.560   Monto"
      ]
     },
     "execution_count": 17,
     "metadata": {},
     "output_type": "execute_result"
    }
   ],
   "source": [
    "df_monto = pd.DataFrame({'PRODUCTO':serie_class,'VALOR':serie_mediana_monto})\n",
    "df_monto['METRICA'] = 'Monto'\n",
    "df_monto"
   ]
  },
  {
   "cell_type": "code",
   "execution_count": 28,
   "id": "a9113c3d",
   "metadata": {
    "scrolled": false
   },
   "outputs": [
    {
     "data": {
      "text/plain": [
       "<seaborn.axisgrid.FacetGrid at 0x21c66d0d970>"
      ]
     },
     "execution_count": 28,
     "metadata": {},
     "output_type": "execute_result"
    },
    {
     "data": {
      "image/png": "[encoded data removed]",
      "text/plain": [
       "<Figure size 426.875x360 with 1 Axes>"
      ]
     },
     "metadata": {
      "needs_background": "light"
     },
     "output_type": "display_data"
    }
   ],
   "source": [
    "#Graficamos la metrica exportado\n",
    "sns.factorplot(x='PRODUCTO', y='VALOR', hue='METRICA', data=df_monto, kind='bar')"
   ]
  },
  {
   "cell_type": "code",
   "execution_count": 23,
   "id": "8e1d71b9",
   "metadata": {},
   "outputs": [
    {
     "data": {
      "text/html": [
       "<div>\n",
       "<style scoped>\n",
       "    .dataframe tbody tr th:only-of-type {\n",
       "        vertical-align: middle;\n",
       "    }\n",
       "\n",
       "    .dataframe tbody tr th {\n",
       "        vertical-align: top;\n",
       "    }\n",
       "\n",
       "    .dataframe thead th {\n",
       "        text-align: right;\n",
       "    }\n",
       "</style>\n",
       "<table border=\"1\" class=\"dataframe\">\n",
       "  <thead>\n",
       "    <tr style=\"text-align: right;\">\n",
       "      <th></th>\n",
       "      <th>PRODUCTO</th>\n",
       "      <th>VALOR</th>\n",
       "      <th>METRICA</th>\n",
       "    </tr>\n",
       "  </thead>\n",
       "  <tbody>\n",
       "    <tr>\n",
       "      <th>0</th>\n",
       "      <td>Chromecast</td>\n",
       "      <td>70.17</td>\n",
       "      <td>Tasa</td>\n",
       "    </tr>\n",
       "    <tr>\n",
       "      <th>1</th>\n",
       "      <td>Tv Apple</td>\n",
       "      <td>70.17</td>\n",
       "      <td>Tasa</td>\n",
       "    </tr>\n",
       "    <tr>\n",
       "      <th>2</th>\n",
       "      <td>Amazon Fire TV</td>\n",
       "      <td>70.17</td>\n",
       "      <td>Tasa</td>\n",
       "    </tr>\n",
       "  </tbody>\n",
       "</table>\n",
       "</div>"
      ],
      "text/plain": [
       "         PRODUCTO  VALOR METRICA\n",
       "0      Chromecast  70.17    Tasa\n",
       "1        Tv Apple  70.17    Tasa\n",
       "2  Amazon Fire TV  70.17    Tasa"
      ]
     },
     "execution_count": 23,
     "metadata": {},
     "output_type": "execute_result"
    }
   ],
   "source": [
    "df_tasa = pd.DataFrame({'PRODUCTO':serie_class,'VALOR': serie_mediana_tasa})\n",
    "df_tasa ['METRICA'] = 'Tasa'\n",
    "df_tasa"
   ]
  },
  {
   "cell_type": "code",
   "execution_count": 25,
   "id": "3a4bc7c9",
   "metadata": {},
   "outputs": [
    {
     "name": "stderr",
     "output_type": "stream",
     "text": [
      "C:\\Users\\usuario\\anaconda3\\lib\\site-packages\\seaborn\\categorical.py:3714: UserWarning: The `factorplot` function has been renamed to `catplot`. The original name will be removed in a future release. Please update your code. Note that the default `kind` in `factorplot` (`'point'`) has changed `'strip'` in `catplot`.\n",
      "  warnings.warn(msg)\n"
     ]
    },
    {
     "data": {
      "text/plain": [
       "<seaborn.axisgrid.FacetGrid at 0x21c66ca1790>"
      ]
     },
     "execution_count": 25,
     "metadata": {},
     "output_type": "execute_result"
    },
    {
     "data": {
      "image/png": "[encoded data removed]",
      "text/plain": [
       "<Figure size 417.875x360 with 1 Axes>"
      ]
     },
     "metadata": {
      "needs_background": "light"
     },
     "output_type": "display_data"
    }
   ],
   "source": [
    "#Graficamos la metrica exportado\n",
    "sns.factorplot(x='PRODUCTO', y='VALOR', hue='METRICA', data=df_tasa, kind='bar')"
   ]
  },
  {
   "cell_type": "code",
   "execution_count": 29,
   "id": "93a28bae",
   "metadata": {},
   "outputs": [],
   "source": [
    "df_concatenado = pd.concat ([df_precio,df_monto,df_tasa],axis=0)"
   ]
  },
  {
   "cell_type": "code",
   "execution_count": 30,
   "id": "7c95683b",
   "metadata": {
    "scrolled": false
   },
   "outputs": [
    {
     "name": "stderr",
     "output_type": "stream",
     "text": [
      "C:\\Users\\usuario\\anaconda3\\lib\\site-packages\\seaborn\\categorical.py:3714: UserWarning: The `factorplot` function has been renamed to `catplot`. The original name will be removed in a future release. Please update your code. Note that the default `kind` in `factorplot` (`'point'`) has changed `'strip'` in `catplot`.\n",
      "  warnings.warn(msg)\n"
     ]
    },
    {
     "data": {
      "text/plain": [
       "<seaborn.axisgrid.FacetGrid at 0x21c66d973a0>"
      ]
     },
     "execution_count": 30,
     "metadata": {},
     "output_type": "execute_result"
    },
    {
     "data": {
      "image/png": "[encoded data removed]",
      "text/plain": [
       "<Figure size 426.875x360 with 1 Axes>"
      ]
     },
     "metadata": {
      "needs_background": "light"
     },
     "output_type": "display_data"
    }
   ],
   "source": [
    "sns.factorplot(x='PRODUCTO', y='VALOR', hue='METRICA', data=df_concatenado, kind='bar')"
   ]
  },
  {
   "cell_type": "markdown",
   "id": "2c5fa937",
   "metadata": {},
   "source": [
    "***-------------------------------------------------------------------------------------------------***"
   ]
  },
  {
   "cell_type": "markdown",
   "id": "4c39d5f3",
   "metadata": {},
   "source": [
    "***2. Por cada resultado, realizar el correspondiente GET por Item_Id al recurso público:\n",
    "https://api.mercadolibre.com/items/{Item_Id}***"
   ]
  },
  {
   "cell_type": "code",
   "execution_count": 37,
   "id": "f9fac3db",
   "metadata": {},
   "outputs": [],
   "source": [
    "df_get = pd.DataFrame(requests.get(\"https://api.mercadolibre.com/sites/MLA/search?q=chromecast&limit=50#json\").json()['results'])\n",
    "df_get ['monto'] = df_get.installments.map(lambda x: x['amount'])\n",
    "df_get ['tasa'] = df_get.installments.map(lambda x: x['rate'])"
   ]
  },
  {
   "cell_type": "code",
   "execution_count": 38,
   "id": "3eefbab2",
   "metadata": {
    "scrolled": false
   },
   "outputs": [
    {
     "name": "stdout",
     "output_type": "stream",
     "text": [
      "0\n",
      "1\n",
      "2\n",
      "3\n",
      "4\n",
      "5\n",
      "6\n",
      "7\n",
      "8\n",
      "9\n",
      "10\n",
      "11\n",
      "12\n",
      "13\n",
      "14\n",
      "15\n",
      "16\n",
      "17\n",
      "18\n",
      "19\n",
      "20\n",
      "21\n",
      "22\n",
      "23\n",
      "24\n",
      "25\n",
      "26\n",
      "27\n",
      "28\n",
      "29\n",
      "30\n",
      "31\n",
      "32\n",
      "33\n",
      "34\n",
      "35\n",
      "36\n",
      "37\n",
      "38\n",
      "39\n",
      "40\n",
      "41\n",
      "42\n",
      "43\n",
      "44\n",
      "45\n",
      "46\n",
      "47\n",
      "48\n",
      "49\n"
     ]
    }
   ],
   "source": [
    "for indx, i in enumerate(df_get ['id']):\n",
    "    print(indx)\n",
    "    if indx==0:\n",
    "        json_get = requests.get(\"https://api.mercadolibre.com/items/\"+i).json()\n",
    "        df_get = pd.DataFrame(requests.get(\"https://api.mercadolibre.com/items/\"+i).json()['sale_terms'])\n",
    "        df_get ['id'] = json_get['id']\n",
    "        df_get ['site_id'] = json_get['site_id']\n",
    "        df_get ['title'] = json_get['title']\n",
    "        df_get ['subtitle'] = json_get['subtitle']\n",
    "        df_get ['seller_id'] = json_get['seller_id']\n",
    "        df_get ['category_id'] = json_get['category_id']\n",
    "        df_get ['official_store_id'] = json_get['official_store_id']\n",
    "        df_get ['price'] = json_get['price']\n",
    "        df_get ['base_price'] = json_get['base_price']\n",
    "        df_get ['original_price'] = json_get['original_price']\n",
    "        df_get ['currency_id'] = json_get['currency_id']\n",
    "        df_get ['initial_quantity'] = json_get['initial_quantity']\n",
    "        df_get ['available_quantity'] = json_get['available_quantity']\n",
    "        df_get ['sold_quantity'] = json_get['sold_quantity']\n",
    "    else:\n",
    "        json_get = requests.get(\"https://api.mercadolibre.com/items/\"+i).json()\n",
    "        df_get_aux = pd.DataFrame(requests.get(\"https://api.mercadolibre.com/items/\"+i).json()['sale_terms'])\n",
    "        df_get_aux ['id'] = json_get['id']\n",
    "        df_get_aux ['site_id'] = json_get['site_id']\n",
    "        df_get_aux ['title'] = json_get['title']\n",
    "        df_get_aux ['subtitle'] = json_get['subtitle']\n",
    "        df_get_aux ['seller_id'] = json_get['seller_id']\n",
    "        df_get_aux ['category_id'] = json_get['category_id']\n",
    "        df_get_aux ['official_store_id'] = json_get['official_store_id']\n",
    "        df_get_aux ['price'] = json_get['price']\n",
    "        df_get_aux ['base_price'] = json_get['base_price']\n",
    "        df_get_aux ['original_price'] = json_get['original_price']\n",
    "        df_get_aux ['currency_id'] = json_get['currency_id']\n",
    "        df_get_aux ['initial_quantity'] = json_get['initial_quantity']\n",
    "        df_get_aux ['available_quantity'] = json_get['available_quantity']\n",
    "        df_get_aux ['sold_quantity'] = json_get['sold_quantity']\n",
    "        \n",
    "        df_exportacion = pd.concat([df_get,df_get_aux],axis=0)"
   ]
  },
  {
   "cell_type": "markdown",
   "id": "5a9634d5",
   "metadata": {},
   "source": [
    "***-------------------------------------------------------------------------------------------------***"
   ]
  },
  {
   "cell_type": "markdown",
   "id": "0bdf3024",
   "metadata": {},
   "source": [
    "***3. Escribir los resultados en un archivo plano delimitado por comas, desnormalizando\n",
    "el JSON obtenido en el paso anterior, en tantos campos como sea necesario para\n",
    "guardar las variables que te interesen modelar***"
   ]
  },
  {
   "cell_type": "code",
   "execution_count": 39,
   "id": "3bd44065",
   "metadata": {},
   "outputs": [],
   "source": [
    "df_exportacion.to_csv ('exportación.csv',sep=',',index=False)"
   ]
  }
 ],
 "metadata": {
  "kernelspec": {
   "display_name": "Python 3",
   "language": "python",
   "name": "python3"
  },
  "language_info": {
   "codemirror_mode": {
    "name": "ipython",
    "version": 3
   },
   "file_extension": ".py",
   "mimetype": "text/x-python",
   "name": "python",
   "nbconvert_exporter": "python",
   "pygments_lexer": "ipython3",
   "version": "3.8.8"
  }
 },
 "nbformat": 4,
 "nbformat_minor": 5
}
